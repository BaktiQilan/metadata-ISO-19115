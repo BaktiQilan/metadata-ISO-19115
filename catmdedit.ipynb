{
 "cells": [
  {
   "cell_type": "code",
   "execution_count": null,
   "id": "0ee758a0",
   "metadata": {},
   "outputs": [],
   "source": [
    "# jalankan ini terlebih dahulu agar template ada di content\n",
    "!git clone https://github.com/BaktiQilan/metadata-ISO-19115.git"
   ]
  },
  {
   "cell_type": "code",
   "execution_count": null,
   "id": "3645b070",
   "metadata": {},
   "outputs": [
    {
     "name": "stdout",
     "output_type": "stream",
     "text": [
      "✔ File dibuat: output_xml\\1. Peta Penataan dan Peningkatan Kualitas Infrastruktur Dasar Kawasan Pemukiman Kumuh.xml\n",
      "✔ File dibuat: output_xml\\3. Peta Persebaran Tingkat Kekumuhan Permukiman Kumuh .xml\n",
      "✔ File dibuat: output_xml\\6. Peta Estimasi Jumlah rumah Terdampak berdasarkan KRB Banjir .xml\n",
      "✔ File dibuat: output_xml\\7. Peta Estimasi Jumlah rumah terdampak berdasarkan KRB Banjir Bandang.xml\n",
      "✔ File dibuat: output_xml\\8. Peta Estimasi Jumlah rumah terdampak berdasarkan KRB Cuaca Ekstrim.xml\n",
      "✔ File dibuat: output_xml\\9. Peta Estimasi Jumlah rumah terdampak berdasarkan KRB Gempa Bumi AVS30.xml\n",
      "✔ File dibuat: output_xml\\10. Peta Estimasi Jumlah rumah terdampak berdasarkan KRB Gempa Bumi PSHA.xml\n",
      "✔ File dibuat: output_xml\\11. Peta Estimasi Jumlah rumah terdampak berdasarkan KRB Karhutla.xml\n",
      "✔ File dibuat: output_xml\\12. Peta Estimasi Jumlah rumah terdampak berdasarkan KRB Kekeringan.xml\n",
      "✔ File dibuat: output_xml\\13. Peta Estimasi Jumlah rumah terdampak berdasarkan KRB Letusan gunung Berapi.xml\n",
      "✔ File dibuat: output_xml\\14. Peta Estimasi Jumlah rumah terdampak berdasarkan KRB Multi Bahaya.xml\n",
      "✔ File dibuat: output_xml\\15. Peta Estimasi Jumlah rumah terdampak berdasarkan KRB Tanah Longsor.xml\n",
      "✔ File dibuat: output_xml\\16. Peta Persebaran Titik Rumah.xml\n",
      "✔ File dibuat: output_xml\\17. Peta Persebaran Titik RUTILAHU.xml\n",
      "✔ File dibuat: output_xml\\18. Peta Bidang Tanah Pengajuan PPTPKH.xml\n",
      "✔ File dibuat: output_xml\\19. Peta Persebaran PBT Aset Pemda.xml\n",
      "✔ File dibuat: output_xml\\20. Peta Persebaran Titik Tanah Milik Pemda.xml\n",
      "✔ File dibuat: output_xml\\21. Peta Persebaran Titik Aset Pemda yang telah diSertifikatkan.xml\n",
      "✔ File dibuat: output_xml\\22. Peta Persebaran Titik Aset Tanah Berdasarkan KIB A.xml\n",
      "✔ File dibuat: output_xml\\23. Peta Sebaran Distribusi Pembangunan Prasarana, Sarana dan Utilitas Umum.xml\n",
      "✔ File dibuat: output_xml\\24. Peta Sebaran DUP Musrenbang.xml\n"
     ]
    }
   ],
   "source": [
    "import pandas as pd\n",
    "import re\n",
    "import os\n",
    "\n",
    "# --- KONFIGURASI ---\n",
    "#jika sudah diclone, selanjutnya cari file \"list peta.xlsx\" dan \"Template - metadata.xml\" di folder \"metadata-ISO-19115/CatMDEdit\"\n",
    "# sesuaikan nama file dan folder output jika perlu\n",
    "excel_file   = \"list peta.xlsx\"      # Nama file Excel\n",
    "template_xml = \"Template - metadata.xml\"   # Nama file template\n",
    "output_dir   = \"output_xml\"     # Folder hasil\n",
    "\n",
    "# Baca Excel\n",
    "df = pd.read_excel(excel_file)\n",
    "\n",
    "# Baca template\n",
    "with open(template_xml, \"r\", encoding=\"utf-8\") as f:\n",
    "    template = f.read()\n",
    "\n",
    "# Buat folder output jika belum ada\n",
    "os.makedirs(output_dir, exist_ok=True)\n",
    "\n",
    "# Regex untuk mencari [placeholder]\n",
    "pattern = re.compile(r\"\\[(.*?)\\]\")\n",
    "\n",
    "# Loop tiap baris Excel\n",
    "for idx, row in df.iterrows():\n",
    "    \n",
    "    peta_name = str(row.get(\"List Peta\", \"\")).strip()\n",
    "    if not peta_name or peta_name.lower() in [\"(deskripsi)\", \"(contoh)\"]:\n",
    "        continue\n",
    "    # Salin template\n",
    "    content = template\n",
    "\n",
    "    # Cari semua placeholder unik\n",
    "    placeholders = pattern.findall(template)\n",
    "\n",
    "    for ph in placeholders:\n",
    "        if ph in row:\n",
    "            # Ganti placeholder dengan isi kolom\n",
    "            content = content.replace(f\"[{ph}]\", str(row[ph]))\n",
    "        else:\n",
    "            # Jika kolom tidak ditemukan, kosongkan\n",
    "            content = content.replace(f\"[{ph}]\", \"\")\n",
    "\n",
    "    # Nama file xml sesuai kolom 'peta'\n",
    "    filename = f\"{row['List Peta']}.xml\"\n",
    "    output_path = os.path.join(output_dir, filename)\n",
    "\n",
    "    # Tulis file XML\n",
    "    with open(output_path, \"w\", encoding=\"utf-8\") as out:\n",
    "        out.write(content)\n",
    "\n",
    "    print(f\"✔ File dibuat: {output_path}\")\n"
   ]
  }
 ],
 "metadata": {
  "kernelspec": {
   "display_name": ".venv",
   "language": "python",
   "name": "python3"
  },
  "language_info": {
   "codemirror_mode": {
    "name": "ipython",
    "version": 3
   },
   "file_extension": ".py",
   "mimetype": "text/x-python",
   "name": "python",
   "nbconvert_exporter": "python",
   "pygments_lexer": "ipython3",
   "version": "3.12.2"
  }
 },
 "nbformat": 4,
 "nbformat_minor": 5
}
